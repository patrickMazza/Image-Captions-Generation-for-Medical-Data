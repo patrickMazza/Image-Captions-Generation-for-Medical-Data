{
 "cells": [
  {
   "cell_type": "code",
   "execution_count": 1,
   "id": "1887c68b-f0b7-4bb9-9459-72da9891d5bc",
   "metadata": {},
   "outputs": [],
   "source": [
    "import pandas as pd\n",
    "from sklearn.model_selection import train_test_split"
   ]
  },
  {
   "cell_type": "markdown",
   "id": "998be3d9-132b-4fd5-986d-31dddbdca7ba",
   "metadata": {},
   "source": [
    "## Splitting CT from MediCat\n",
    "\n",
    "Split: 70% of total cases for train, 20% for validation, 10% for test"
   ]
  },
  {
   "cell_type": "code",
   "execution_count": 9,
   "id": "464e5337-4d39-4565-8544-cc23e0ab5df3",
   "metadata": {},
   "outputs": [
    {
     "data": {
      "text/plain": [
       "((3500, 16), (1500, 16))"
      ]
     },
     "execution_count": 9,
     "metadata": {},
     "output_type": "execute_result"
    }
   ],
   "source": [
    "ct_data = pd.read_csv('Cleaned_CT_cluster_data.csv')\n",
    "\n",
    "train_set, all_test, _, _ = train_test_split(ct_data, ct_data['s2_caption'], test_size=0.3, random_state=42)\n",
    "train_set.shape, all_test.shape"
   ]
  },
  {
   "cell_type": "code",
   "execution_count": 10,
   "id": "5e7baa48-0443-43fb-a4d7-09e5f8f8b20b",
   "metadata": {},
   "outputs": [
    {
     "data": {
      "text/plain": [
       "((1005, 16), (495, 16))"
      ]
     },
     "execution_count": 10,
     "metadata": {},
     "output_type": "execute_result"
    }
   ],
   "source": [
    "val_set, test_set, _, _ = train_test_split(all_test, all_test['s2_caption'], test_size=0.33, random_state=42)\n",
    "val_set.shape, test_set.shape"
   ]
  },
  {
   "cell_type": "code",
   "execution_count": 11,
   "id": "8efeca53-46d0-4418-ba9f-c4df8c142c0b",
   "metadata": {},
   "outputs": [],
   "source": [
    "train_set.to_csv('Cleaned_CT_cluster_data_train.csv')\n",
    "val_set.to_csv('Cleaned_CT_cluster_data_val.csv')\n",
    "test_set.to_csv('Cleaned_CT_cluster_data_test.csv')"
   ]
  },
  {
   "cell_type": "markdown",
   "id": "9114a928-d151-4b7c-abee-6005d3fb5e5c",
   "metadata": {},
   "source": [
    "## Splitting MRI from MediCat"
   ]
  },
  {
   "cell_type": "code",
   "execution_count": 14,
   "id": "da9392c7-51c4-4b45-8e72-0532baf68781",
   "metadata": {},
   "outputs": [
    {
     "data": {
      "text/plain": [
       "((3500, 16), (1500, 16))"
      ]
     },
     "execution_count": 14,
     "metadata": {},
     "output_type": "execute_result"
    }
   ],
   "source": [
    "mri_data = pd.read_csv('Cleaned_MRI_cluster_data.xls')\n",
    "\n",
    "train_set_mri, all_test_mri, _, _ = train_test_split(mri_data, mri_data['s2_caption'], \n",
    "                                                     test_size=0.3, random_state=42)\n",
    "train_set_mri.shape, all_test_mri.shape"
   ]
  },
  {
   "cell_type": "code",
   "execution_count": 15,
   "id": "141ff5b9-e567-43df-a158-90e1ad854f75",
   "metadata": {},
   "outputs": [
    {
     "data": {
      "text/plain": [
       "((1005, 16), (495, 16))"
      ]
     },
     "execution_count": 15,
     "metadata": {},
     "output_type": "execute_result"
    }
   ],
   "source": [
    "val_set_mri, test_set_mri, _, _ = train_test_split(all_test_mri, all_test_mri['s2_caption'],\n",
    "                                                   test_size=0.33, random_state=42)\n",
    "val_set_mri.shape, test_set_mri.shape"
   ]
  },
  {
   "cell_type": "code",
   "execution_count": 16,
   "id": "141b1334-062d-442b-b5a2-861533825b5e",
   "metadata": {},
   "outputs": [],
   "source": [
    "train_set_mri.to_csv('Cleaned_MRI_cluster_data_train.csv')\n",
    "val_set_mri.to_csv('Cleaned_MRI_cluster_data_val.csv')\n",
    "test_set_mri.to_csv('Cleaned_MRI_cluster_data_test.csv')"
   ]
  },
  {
   "cell_type": "code",
   "execution_count": null,
   "id": "a9962b4f-5497-443f-bbba-3ca1d490bfc8",
   "metadata": {},
   "outputs": [],
   "source": []
  }
 ],
 "metadata": {
  "kernelspec": {
   "display_name": "Python 3 (ipykernel)",
   "language": "python",
   "name": "python3"
  },
  "language_info": {
   "codemirror_mode": {
    "name": "ipython",
    "version": 3
   },
   "file_extension": ".py",
   "mimetype": "text/x-python",
   "name": "python",
   "nbconvert_exporter": "python",
   "pygments_lexer": "ipython3",
   "version": "3.9.5"
  }
 },
 "nbformat": 4,
 "nbformat_minor": 5
}
