{
 "cells": [
  {
   "cell_type": "code",
   "execution_count": 1,
   "id": "3835d255-a143-4ac0-98eb-42209be41e44",
   "metadata": {},
   "outputs": [],
   "source": [
    "import json\n",
    "import cv2  \n",
    "import glob\n",
    "import numpy as np\n",
    "import pandas as pd\n",
    "import os\n",
    "import string\n",
    "import shutup\n",
    "from skimage import io\n",
    "shutup.mute_warnings()\n",
    "\n",
    "import matplotlib.pyplot as plt\n",
    "import seaborn as sns\n",
    "%matplotlib inline\n",
    "sns.set_context('notebook')"
   ]
  },
  {
   "cell_type": "markdown",
   "id": "05eb5c79-d749-4a75-a5b3-106ce748769c",
   "metadata": {},
   "source": [
    "## Reading data"
   ]
  },
  {
   "cell_type": "code",
   "execution_count": 2,
   "id": "60926024-3ea4-41a8-81b6-ab641d6c2b39",
   "metadata": {},
   "outputs": [
    {
     "data": {
      "text/plain": [
       "(45114, 15)"
      ]
     },
     "execution_count": 2,
     "metadata": {},
     "output_type": "execute_result"
    }
   ],
   "source": [
    "figures_data = pd.read_csv('CT_cluster_data.csv')\n",
    "figures_data.shape"
   ]
  },
  {
   "cell_type": "markdown",
   "id": "df2e9c45-cff1-4731-8d77-a3cf3b89b4f1",
   "metadata": {},
   "source": [
    "## Image filtering - size"
   ]
  },
  {
   "cell_type": "code",
   "execution_count": 3,
   "id": "010c4035-6f9d-46e2-acfa-41655a5e508e",
   "metadata": {},
   "outputs": [],
   "source": [
    "def caption_to_figure(caption_dict):\n",
    "    figure_file_name = '_'.join([caption_dict['pdf_hash'], caption_dict['fig_uri']])\n",
    "    return figure_file_name"
   ]
  },
  {
   "cell_type": "code",
   "execution_count": 6,
   "id": "57100b04-c202-4c92-952d-6569d5eecb80",
   "metadata": {},
   "outputs": [
    {
     "data": {
      "text/plain": [
       "(45114, 15)"
      ]
     },
     "execution_count": 6,
     "metadata": {},
     "output_type": "execute_result"
    }
   ],
   "source": [
    "drop_index = []\n",
    "\n",
    "for i in range(len(figures_data)):\n",
    "    sample_dict = figures_data.iloc[i]\n",
    "    im_path = os.path.join('figures/', caption_to_figure(figures_data.iloc[0]))\n",
    "    image = io.imread(im_path)\n",
    "    if image.shape[0] < 64 or image.shape[1] < 64 or image.shape[0] > 1024 or image.shape[1] > 1024:\n",
    "        drop_index.append(i)\n",
    "\n",
    "figures_data = figures_data.drop(drop_index)\n",
    "figures_data.shape"
   ]
  },
  {
   "cell_type": "markdown",
   "id": "a8194288-f510-4eb6-aca7-5ffbfe4163dd",
   "metadata": {},
   "source": [
    "## Text filtering - min caption size"
   ]
  },
  {
   "cell_type": "code",
   "execution_count": 13,
   "id": "353598ff-2171-43a3-af31-573087225770",
   "metadata": {},
   "outputs": [
    {
     "data": {
      "text/plain": [
       "(26431, 15)"
      ]
     },
     "execution_count": 13,
     "metadata": {},
     "output_type": "execute_result"
    }
   ],
   "source": [
    "figures_data = figures_data[figures_data['num_words'] > 25]\n",
    "figures_data.shape"
   ]
  },
  {
   "cell_type": "markdown",
   "id": "356a2d56-cb12-4f02-94c9-f79db61bf015",
   "metadata": {},
   "source": [
    "## Text filtering - max caption size"
   ]
  },
  {
   "cell_type": "code",
   "execution_count": 14,
   "id": "9e9e00a9-ed15-420e-9d3e-91c17134078a",
   "metadata": {},
   "outputs": [
    {
     "data": {
      "text/plain": [
       "<AxesSubplot:>"
      ]
     },
     "execution_count": 14,
     "metadata": {},
     "output_type": "execute_result"
    },
    {
     "data": {
      "image/png": "[encoded data removed]",
      "text/plain": [
       "<Figure size 432x288 with 1 Axes>"
      ]
     },
     "metadata": {
      "needs_background": "light"
     },
     "output_type": "display_data"
    }
   ],
   "source": [
    "figures_data['num_words'].hist()"
   ]
  },
  {
   "cell_type": "code",
   "execution_count": 16,
   "id": "bcf5b3ca-a2ff-4840-aec2-fc88a0f38f34",
   "metadata": {},
   "outputs": [
    {
     "data": {
      "text/plain": [
       "(24180, 15)"
      ]
     },
     "execution_count": 16,
     "metadata": {},
     "output_type": "execute_result"
    }
   ],
   "source": [
    "# Dropping cases when captions have more than 100 words\n",
    "figures_data = figures_data[figures_data['num_words'] < 100]\n",
    "figures_data.shape"
   ]
  },
  {
   "cell_type": "markdown",
   "id": "309d94b0-3af2-47fc-9c58-9b6ad8843f06",
   "metadata": {},
   "source": [
    "## Random choice of 5k\n",
    "\n",
    "<!-- IU unfiltered (full raw) dataset has 7k images, is that right?\n",
    "so is it correct to  -->"
   ]
  },
  {
   "cell_type": "code",
   "execution_count": 19,
   "id": "8770e3f3-a43a-4d03-bbda-84896ccbb714",
   "metadata": {},
   "outputs": [],
   "source": [
    "filtered_dataset = figures_data.sample(5000)\n",
    "filtered_dataset.to_csv('Cleaned_CT_cluster_data.csv')"
   ]
  },
  {
   "cell_type": "code",
   "execution_count": null,
   "id": "b8d957c3-f121-4360-b2cc-3101f1146979",
   "metadata": {},
   "outputs": [],
   "source": []
  }
 ],
 "metadata": {
  "kernelspec": {
   "display_name": "Python 3 (ipykernel)",
   "language": "python",
   "name": "python3"
  },
  "language_info": {
   "codemirror_mode": {
    "name": "ipython",
    "version": 3
   },
   "file_extension": ".py",
   "mimetype": "text/x-python",
   "name": "python",
   "nbconvert_exporter": "python",
   "pygments_lexer": "ipython3",
   "version": "3.9.5"
  }
 },
 "nbformat": 4,
 "nbformat_minor": 5
}
