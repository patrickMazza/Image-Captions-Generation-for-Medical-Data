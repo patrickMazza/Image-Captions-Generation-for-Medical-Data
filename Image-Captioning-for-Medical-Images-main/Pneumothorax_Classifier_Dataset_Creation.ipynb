{
  "nbformat": 4,
  "nbformat_minor": 0,
  "metadata": {
    "colab": {
      "provenance": []
    },
    "kernelspec": {
      "name": "python3",
      "display_name": "Python 3"
    },
    "language_info": {
      "name": "python"
    }
  },
  "cells": [
    {
      "cell_type": "markdown",
      "source": [
        "# Pneumothorax Classifier Dataset Creation\n",
        "\n",
        "**References:**\n",
        "- https://www.kaggle.com/code/meaninglesslives/pneumothorax-classifier\n",
        "- https://github.com/ajsanjoaquin/Pneumothorax/blob/master/Pneumothorax_code.ipynb"
      ],
      "metadata": {
        "id": "so-JT7TtAMKm"
      }
    },
    {
      "cell_type": "code",
      "source": [
        "import pickle\n",
        "import re\n",
        "import pandas as pd\n",
        "from google.colab import drive\n",
        "drive.mount('/content/drive')"
      ],
      "metadata": {
        "colab": {
          "base_uri": "https://localhost:8080/"
        },
        "id": "2EfYMAdiAZU9",
        "outputId": "94d68f7b-0d02-4f21-a04a-5b148910fea9"
      },
      "execution_count": 1,
      "outputs": [
        {
          "output_type": "stream",
          "name": "stdout",
          "text": [
            "Drive already mounted at /content/drive; to attempt to forcibly remount, call drive.mount(\"/content/drive\", force_remount=True).\n"
          ]
        }
      ]
    },
    {
      "cell_type": "markdown",
      "source": [
        "# Load Dictionary with Mapping Images to Findings"
      ],
      "metadata": {
        "id": "O9p6d0UPsUkw"
      }
    },
    {
      "cell_type": "code",
      "source": [
        "with open('/content/drive/MyDrive/iu_image/analysis/output/img_findings_dict.pickle', 'rb') as handle:\n",
        "    img_findings_dict=pickle.load(handle)\n",
        "print(\"There are {} unique findings in the dataset\".format(len(img_findings_dict)))"
      ],
      "metadata": {
        "colab": {
          "base_uri": "https://localhost:8080/"
        },
        "id": "8--KAl4ZBoUa",
        "outputId": "882652cc-c58a-40bf-ae4a-17b9dd1b0ce9"
      },
      "execution_count": 2,
      "outputs": [
        {
          "output_type": "stream",
          "name": "stdout",
          "text": [
            "There are 2507 unique findings in the dataset\n"
          ]
        }
      ]
    },
    {
      "cell_type": "markdown",
      "source": [
        "# Identify Pneumothorax Negative Images"
      ],
      "metadata": {
        "id": "4OPA8bnHsn39"
      }
    },
    {
      "cell_type": "code",
      "source": [
        "pneumothorax_neg_dict={}\n",
        "temp_dict={}\n",
        "\n",
        "findings_pneumothorax_ctr=0\n",
        "\n",
        "for finding in img_findings_dict:\n",
        "  f=finding.lower()\n",
        "  f=f.strip()\n",
        "  f=re.sub(r'[^\\w\\s]', '', f)\n",
        "  f=f.split()\n",
        "  \n",
        "  if 'pneumothorax' in f: \n",
        "    findings_pneumothorax_ctr+=1\n",
        "    pneum_idx=f.index('pneumothorax')\n",
        "    if (f[pneum_idx-1])=='no':\n",
        "      pneumothorax_neg_dict[finding]=img_findings_dict[finding]\n",
        "    else:\n",
        "      temp_dict[finding]=img_findings_dict[finding]\n",
        "\n",
        "print(\"{} findings mention pneumothorax and {} say 'no pneumothorax' \".format(findings_pneumothorax_ctr,len(pneumothorax_neg_dict)))"
      ],
      "metadata": {
        "colab": {
          "base_uri": "https://localhost:8080/"
        },
        "id": "2OwJo_3sp5nN",
        "outputId": "74ed4796-92ae-480f-8267-2ae656c9c39f"
      },
      "execution_count": 3,
      "outputs": [
        {
          "output_type": "stream",
          "name": "stdout",
          "text": [
            "1818 findings mention pneumothorax and 741 say 'no pneumothorax' \n"
          ]
        }
      ]
    },
    {
      "cell_type": "code",
      "source": [
        "for finding in temp_dict:\n",
        "  f=finding.lower()\n",
        "  f=f.strip()\n",
        "  f=f.split('.')\n",
        "\n",
        "  for f_str in f:\n",
        "    f_str=re.sub(r'[^\\w\\s]', '', f_str)\n",
        "    f_str=f_str.split()\n",
        "    \n",
        "    if 'no' in f_str: \n",
        "      no_idx=f_str.index('no')\n",
        "      \n",
        "      wrds_after_no_lst=f_str[no_idx+1:]\n",
        "\n",
        "      if 'pneumothorax' in wrds_after_no_lst:\n",
        "        pneumothorax_neg_dict[finding]=img_findings_dict[finding]\n",
        "        continue\n",
        "\n",
        "print(\"{} say 'no pneumothorax' or 'no ... pneumothorax' \".format(len(pneumothorax_neg_dict)))"
      ],
      "metadata": {
        "colab": {
          "base_uri": "https://localhost:8080/"
        },
        "id": "-hGMvSWCqPhA",
        "outputId": "54eb9f22-9980-422d-f1df-f6857af21dd1"
      },
      "execution_count": 4,
      "outputs": [
        {
          "output_type": "stream",
          "name": "stdout",
          "text": [
            "1603 say 'no pneumothorax' or 'no ... pneumothorax' \n"
          ]
        }
      ]
    },
    {
      "cell_type": "code",
      "source": [
        "for finding in temp_dict:\n",
        "  f=finding.lower()\n",
        "  f=f.strip()\n",
        "  f=f.split('.')\n",
        "\n",
        "  for f_str in f:\n",
        "    f_str=re.sub(r'[^\\w\\s]', '', f_str)\n",
        "    f_str=f_str.split()\n",
        "    \n",
        "    if 'without' in f_str: \n",
        "      no_idx=f_str.index('without')\n",
        "      \n",
        "      wrds_after_no_lst=f_str[no_idx+1:]\n",
        "\n",
        "      if 'pneumothorax' in wrds_after_no_lst:\n",
        "        pneumothorax_neg_dict[finding]=img_findings_dict[finding]\n",
        "        continue\n",
        "\n",
        "print(\"{} say 'no pneumothorax' or 'no ... pneumothorax' or 'without ... pneumothorax' \".format(len(pneumothorax_neg_dict)))"
      ],
      "metadata": {
        "colab": {
          "base_uri": "https://localhost:8080/"
        },
        "id": "SqWFhs3i0SDY",
        "outputId": "b1787d57-8059-43fa-83e1-0fcf0add8c42"
      },
      "execution_count": 5,
      "outputs": [
        {
          "output_type": "stream",
          "name": "stdout",
          "text": [
            "1719 say 'no pneumothorax' or 'no ... pneumothorax' or 'without ... pneumothorax' \n"
          ]
        }
      ]
    },
    {
      "cell_type": "code",
      "source": [
        "for finding in temp_dict:\n",
        "  f=finding.lower()\n",
        "  f=f.strip()\n",
        "  f=f.split('.')\n",
        "\n",
        "  for f_str in f:\n",
        "    f_str=re.sub(r'[^\\w\\s]', '', f_str)\n",
        "    f_str=f_str.split()\n",
        "    \n",
        "    if 'negative' in f_str: \n",
        "      no_idx=f_str.index('negative')\n",
        "      \n",
        "      wrds_after_no_lst=f_str[no_idx+1:]\n",
        "\n",
        "      if 'pneumothorax' in wrds_after_no_lst:\n",
        "        pneumothorax_neg_dict[finding]=img_findings_dict[finding]\n",
        "        continue\n",
        "\n",
        "print(\"{} say 'no pneumothorax' or 'no ... pneumothorax' or 'without ... pneumothorax' or 'negative for ... pneumothorax' \".format(len(pneumothorax_neg_dict)))"
      ],
      "metadata": {
        "colab": {
          "base_uri": "https://localhost:8080/"
        },
        "id": "CUAEcYW2AQ2K",
        "outputId": "d94fe2b0-d04e-424a-861f-ef1d1cb3e162"
      },
      "execution_count": 6,
      "outputs": [
        {
          "output_type": "stream",
          "name": "stdout",
          "text": [
            "1779 say 'no pneumothorax' or 'no ... pneumothorax' or 'without ... pneumothorax' or 'negative for ... pneumothorax' \n"
          ]
        }
      ]
    },
    {
      "cell_type": "code",
      "source": [
        "for finding in temp_dict:\n",
        "  f=finding.lower()\n",
        "  f=f.strip()\n",
        "  f=f.split('.')\n",
        "\n",
        "  for f_str in f:\n",
        "    f_str=re.sub(r'[^\\w\\s]', '', f_str)\n",
        "    f_str=f_str.split()\n",
        "    \n",
        "    if 'clear' in f_str: \n",
        "      no_idx=f_str.index('clear')\n",
        "      \n",
        "      wrds_after_no_lst=f_str[no_idx+1:]\n",
        "\n",
        "      if 'pneumothorax' in wrds_after_no_lst:\n",
        "        pneumothorax_neg_dict[finding]=img_findings_dict[finding]\n",
        "        continue\n",
        "\n",
        "print(\"{} say 'no pneumothorax' or 'no ... pneumothorax' or 'without ... pneumothorax' or 'negative for ... pneumothorax or 'clear of...' \".format(len(pneumothorax_neg_dict)))"
      ],
      "metadata": {
        "colab": {
          "base_uri": "https://localhost:8080/"
        },
        "id": "ZWyHWITsIYbW",
        "outputId": "749cf560-a8aa-427a-a9a7-46bfd1d33a5e"
      },
      "execution_count": 7,
      "outputs": [
        {
          "output_type": "stream",
          "name": "stdout",
          "text": [
            "1804 say 'no pneumothorax' or 'no ... pneumothorax' or 'without ... pneumothorax' or 'negative for ... pneumothorax or 'clear of...' \n"
          ]
        }
      ]
    },
    {
      "cell_type": "code",
      "source": [
        "textfile=open(\"/content/drive/MyDrive/iu_image/analysis/output/manual_label_findings.txt\", \"w\")\n",
        "textfile.write('Findings \\n\\n')\n",
        "\n",
        "ctr=0\n",
        "\n",
        "for finding in img_findings_dict:\n",
        "  if finding not in pneumothorax_neg_dict:\n",
        "    f=finding.lower()\n",
        "    f=f.strip()\n",
        "    f=re.sub(r'[^\\w\\s]', '', f)\n",
        "    f=f.split()\n",
        "  \n",
        "    if 'pneumothorax' in f: \n",
        "      ctr+=1\n",
        "      textfile.write(finding+\"\\n\\n\")\n",
        "\n",
        "textfile.close()"
      ],
      "metadata": {
        "id": "tSjR82jbBsmF"
      },
      "execution_count": 8,
      "outputs": []
    },
    {
      "cell_type": "code",
      "source": [
        "man_label_df=pd.read_csv(\"/content/drive/MyDrive/iu_image/analysis/input/manual_label_findings_edited.txt\", sep=\"\\n\\n\")\n",
        "man_label_lst=man_label_df.values.tolist()\n",
        "man_label_lst_flat=[item for lst in man_label_lst for item in lst]"
      ],
      "metadata": {
        "colab": {
          "base_uri": "https://localhost:8080/"
        },
        "id": "QZFomqslGKup",
        "outputId": "14544202-0ecc-4ea2-953b-3d093359d7b6"
      },
      "execution_count": 9,
      "outputs": [
        {
          "output_type": "stream",
          "name": "stderr",
          "text": [
            "/usr/local/lib/python3.8/dist-packages/pandas/util/_decorators.py:311: ParserWarning: Falling back to the 'python' engine because the 'c' engine does not support regex separators (separators > 1 char and different from '\\s+' are interpreted as regex); you can avoid this warning by specifying engine='python'.\n",
            "  return func(*args, **kwargs)\n"
          ]
        }
      ]
    },
    {
      "cell_type": "code",
      "source": [
        "pneumothorax_pos_dict={}\n",
        "\n",
        "for s in man_label_lst_flat:\n",
        "  s_lst=s.split(\"**\")\n",
        "  if s_lst[1]=='Negative':\n",
        "    pneumothorax_neg_dict[s_lst[0]]=img_findings_dict[s_lst[0]]\n",
        "\n",
        "  if s_lst[1]=='Positive':\n",
        "    pneumothorax_pos_dict[s_lst[0]]=img_findings_dict[s_lst[0]]"
      ],
      "metadata": {
        "id": "jaE1MyzQXYm0"
      },
      "execution_count": 10,
      "outputs": []
    },
    {
      "cell_type": "code",
      "source": [
        "with open('/content/drive/MyDrive/iu_image/analysis/output/pneumothorax_pos_dict.pickle', 'wb') as handle:\n",
        "    pickle.dump(pneumothorax_pos_dict, handle, protocol=pickle.HIGHEST_PROTOCOL)\n",
        "\n",
        "with open('/content/drive/MyDrive/iu_image/analysis/output/pneumothorax_neg_dict.pickle', 'wb') as handle:\n",
        "    pickle.dump(pneumothorax_neg_dict, handle, protocol=pickle.HIGHEST_PROTOCOL)"
      ],
      "metadata": {
        "id": "mGBujhg4YTdF"
      },
      "execution_count": 11,
      "outputs": []
    }
  ]
}