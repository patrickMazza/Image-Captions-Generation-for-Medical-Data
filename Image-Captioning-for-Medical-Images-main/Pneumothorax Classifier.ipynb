{
 "cells": [
  {
   "cell_type": "markdown",
   "metadata": {
    "id": "wH3BcWMRxZMx"
   },
   "source": [
    "# Pneumothorax Classifier\n",
    "\n",
    "**References:**\n",
    "- https://www.youtube.com/watch?v=93kXzUOiYY4\n",
    "- https://colab.research.google.com/drive/1mVISoBYTDk3Q9D5VmviTkYD28WlFW-Jk#scrollTo=miSJjgU6PZ5Z\n",
    "- https://www.analyticsvidhya.com/blog/2020/07/10-techniques-to-deal-with-class-imbalance-in-machine-learning/\n",
    "- https://medium.com/swlh/how-to-use-smote-for-dealing-with-imbalanced-image-dataset-for-solving-classification-problems-3aba7d2b9cad"
   ]
  },
  {
   "cell_type": "code",
   "execution_count": 6,
   "metadata": {
    "colab": {
     "base_uri": "https://localhost:8080/"
    },
    "executionInfo": {
     "elapsed": 1031,
     "status": "ok",
     "timestamp": 1670199526173,
     "user": {
      "displayName": "Rhia Singh",
      "userId": "01864579208837955125"
     },
     "user_tz": 300
    },
    "id": "3T0ZiQw0YGoH",
    "outputId": "948e1e07-19ee-4c20-9b59-fb9523569cf3"
   },
   "outputs": [
    {
     "name": "stdout",
     "output_type": "stream",
     "text": [
      "Collecting pickle5\n",
      "  Downloading pickle5-0.0.12-cp36-cp36m-macosx_10_9_x86_64.whl (125 kB)\n",
      "     |████████████████████████████████| 125 kB 3.1 MB/s            \n",
      "\u001b[?25hInstalling collected packages: pickle5\n",
      "Successfully installed pickle5-0.0.12\n"
     ]
    }
   ],
   "source": [
    "import glob\n",
    "import matplotlib.pyplot as p\n",
    "!pip install pickle5\n",
    "import pickle5 as pickle"
   ]
  },
  {
   "cell_type": "markdown",
   "metadata": {
    "id": "t12ql9J8Xux5"
   },
   "source": [
    "# Load Images"
   ]
  },
  {
   "cell_type": "code",
   "execution_count": 7,
   "metadata": {
    "executionInfo": {
     "elapsed": 10,
     "status": "ok",
     "timestamp": 1670199526174,
     "user": {
      "displayName": "Rhia Singh",
      "userId": "01864579208837955125"
     },
     "user_tz": 300
    },
    "id": "iYViDgIej7o4"
   },
   "outputs": [],
   "source": [
    "with open('output/pneumothorax_neg_dict.pickle', 'rb') as handle:\n",
    "    pneumothorax_neg_dict=pickle.load(handle)\n",
    "\n",
    "with open('output/pneumothorax_pos_dict.pickle', 'rb') as handle:\n",
    "    pneumothorax_pos_dict=pickle.load(handle)"
   ]
  },
  {
   "cell_type": "code",
   "execution_count": 8,
   "metadata": {
    "executionInfo": {
     "elapsed": 8,
     "status": "ok",
     "timestamp": 1670199526457,
     "user": {
      "displayName": "Rhia Singh",
      "userId": "01864579208837955125"
     },
     "user_tz": 300
    },
    "id": "PgpX2sXTkzO4"
   },
   "outputs": [],
   "source": [
    "pos_img_idx_lst=[j for i in pneumothorax_pos_dict for j in pneumothorax_pos_dict[i]]\n",
    "neg_img_idx_lst=[j for i in pneumothorax_neg_dict for j in pneumothorax_neg_dict[i]]"
   ]
  },
  {
   "cell_type": "code",
   "execution_count": 11,
   "metadata": {
    "id": "D9z_6Tkixnlf"
   },
   "outputs": [],
   "source": [
    "positive_img=[]\n",
    "neg_imgs=[]\n",
    "\n",
    "for file in glob.glob('input/NLMCXR_png/*.png'):\n",
    "    file_split_1=file.split(\".\")\n",
    "    file_split_2=file_split_1[0].split(\"/\")\n",
    "    img_indx=file_split_2[-1]\n",
    "    \n",
    "    if img_indx in neg_img_idx_lst:\n",
    "      im=p.imread('input/NLMCXR_png/{}.png'.format(img_indx))\n",
    "      neg_imgs.append(im)\n",
    "    elif img_indx in pos_img_idx_lst:\n",
    "      im=p.imread('input/NLMCXR_png/{}.png'.format(img_indx))\n",
    "      positive_img.append(im)"
   ]
  },
  {
   "cell_type": "code",
   "execution_count": 12,
   "metadata": {
    "id": "ti_LEOe_YL6S"
   },
   "outputs": [
    {
     "name": "stdout",
     "output_type": "stream",
     "text": [
      "20\n"
     ]
    }
   ],
   "source": [
    "print(len(positive_img))"
   ]
  },
  {
   "cell_type": "code",
   "execution_count": null,
   "metadata": {
    "id": "8YuWNF5DomB8"
   },
   "outputs": [],
   "source": []
  }
 ],
 "metadata": {
  "colab": {
   "authorship_tag": "ABX9TyNdUStNaczC5A2taZEvYnEO",
   "mount_file_id": "11va1_hqNAti1OubFSbqFwQUu__Mkks_4",
   "provenance": []
  },
  "kernelspec": {
   "display_name": "Python 3",
   "language": "python",
   "name": "python3"
  },
  "language_info": {
   "codemirror_mode": {
    "name": "ipython",
    "version": 3
   },
   "file_extension": ".py",
   "mimetype": "text/x-python",
   "name": "python",
   "nbconvert_exporter": "python",
   "pygments_lexer": "ipython3",
   "version": "3.6.4"
  }
 },
 "nbformat": 4,
 "nbformat_minor": 1
}
