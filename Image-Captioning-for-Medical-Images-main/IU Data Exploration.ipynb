{
 "cells": [
  {
   "cell_type": "markdown",
   "metadata": {},
   "source": [
    "# IU Data Exploration\n",
    "\n",
    "All images are '.png' images. \n",
    "\n",
    "There are 7,470 image files and at first glance, it appears as though there are two images per person, which provides an anterior and lateral view of the person's chest.\n",
    "\n",
    "There are 3,955 '.xml' files that provide the indication, finding and medical impression of the person in the image. The 'parentImage' tag identifies the corresponding '.png' file."
   ]
  },
  {
   "cell_type": "code",
   "execution_count": 1,
   "metadata": {},
   "outputs": [],
   "source": [
    "import os\n",
    "import pickle\n",
    "from xml.dom import minidom\n",
    "import collections\n",
    "import pandas as pd\n",
    "import seaborn as sns\n",
    "import matplotlib.pyplot as plt\n",
    "import statistics"
   ]
  },
  {
   "cell_type": "markdown",
   "metadata": {},
   "source": [
    "# Load Captions - Test Case"
   ]
  },
  {
   "cell_type": "code",
   "execution_count": 2,
   "metadata": {},
   "outputs": [
    {
     "name": "stdout",
     "output_type": "stream",
     "text": [
      "Positive TB test\n",
      "Positive TB test \n",
      " The cardiac silhouette and mediastinum size are within normal limits. There is no pulmonary edema. There is no focal consolidation. There are no XXXX of a pleural effusion. There is no evidence of pneumothorax. \n",
      " ['CXR1_1_IM-0001-3001', 'CXR1_1_IM-0001-4001']\n"
     ]
    }
   ],
   "source": [
    "dict_img_ref={}\n",
    "docs = minidom.parse('input/ecgen-radiology/1.xml')\n",
    "img_ref = docs.getElementsByTagName(\"AbstractText\")\n",
    "\n",
    "for i in img_ref:\n",
    "    if i.getAttribute(\"Label\") == 'INDICATION': \n",
    "        \n",
    "        if i.firstChild:\n",
    "            indication=str(i.firstChild.data)\n",
    "            print(indication)\n",
    "        else:\n",
    "            indication=\"Booop\"\n",
    "            print(\"Boop\")\n",
    "        \n",
    "    if i.getAttribute(\"Label\") == 'FINDINGS': \n",
    "        findings=str(i.firstChild.data)\n",
    "\n",
    "img_ref = docs.getElementsByTagName(\"parentImage\")\n",
    "img_arr=[str(i.getAttribute(\"id\")) for i in img_ref]\n",
    "\n",
    "print(indication,\"\\n\",findings,\"\\n\",img_arr)"
   ]
  },
  {
   "cell_type": "markdown",
   "metadata": {},
   "source": [
    "# List all the possible labels/indications\n",
    "\n",
    "There are 2,522 indications unique indications - manual work may be needed to consolidate the labels.\n",
    "\n",
    "The minimum length is 2 and the maximum length is 228. The median length is 35 characters.\n",
    "\n",
    "Number of Words:"
   ]
  },
  {
   "cell_type": "code",
   "execution_count": 3,
   "metadata": {},
   "outputs": [
    {
     "data": {
      "text/plain": [
       "2522"
      ]
     },
     "execution_count": 3,
     "metadata": {},
     "output_type": "execute_result"
    }
   ],
   "source": [
    "indic_lst=[]\n",
    "for filename in os.listdir('input/ecgen-radiology/'):\n",
    "    docs = minidom.parse('input/ecgen-radiology/'+filename)\n",
    "    img_ref = docs.getElementsByTagName(\"AbstractText\")\n",
    "    \n",
    "    for i in img_ref:\n",
    "        if i.getAttribute(\"Label\") == 'INDICATION': \n",
    "            if i.firstChild:\n",
    "                indication=str(i.firstChild.data)\n",
    "                indic_lst.append(indication)\n",
    "            \n",
    "indic_lst=list(set(indic_lst))\n",
    "len(indic_lst)"
   ]
  },
  {
   "cell_type": "code",
   "execution_count": 4,
   "metadata": {},
   "outputs": [
    {
     "name": "stdout",
     "output_type": "stream",
     "text": [
      "Median length:  35.0\n"
     ]
    },
    {
     "data": {
      "text/plain": [
       "<AxesSubplot:xlabel='Length Label', ylabel='Count'>"
      ]
     },
     "execution_count": 4,
     "metadata": {},
     "output_type": "execute_result"
    },
    {
     "data": {
      "image/png": "[encoded data removed]",
      "text/plain": [
       "<Figure size 432x288 with 1 Axes>"
      ]
     },
     "metadata": {
      "needs_background": "light"
     },
     "output_type": "display_data"
    }
   ],
   "source": [
    "len_labels_lst=[len(i) for i in indic_lst]\n",
    "print(\"Median length: \",statistics.median(len_labels_lst))\n",
    "frequency=collections.Counter(len_labels_lst)\n",
    "dict_label_freq=dict(frequency)\n",
    "df_label_freq=pd.DataFrame(dict_label_freq.items(), columns=['Length Label', 'Frequency'])\n",
    "\n",
    "sns.histplot(data=df_label_freq, x=\"Length Label\")"
   ]
  },
  {
   "cell_type": "code",
   "execution_count": 5,
   "metadata": {},
   "outputs": [
    {
     "data": {
      "text/html": [
       "<div>\n",
       "<style scoped>\n",
       "    .dataframe tbody tr th:only-of-type {\n",
       "        vertical-align: middle;\n",
       "    }\n",
       "\n",
       "    .dataframe tbody tr th {\n",
       "        vertical-align: top;\n",
       "    }\n",
       "\n",
       "    .dataframe thead th {\n",
       "        text-align: right;\n",
       "    }\n",
       "</style>\n",
       "<table border=\"1\" class=\"dataframe\">\n",
       "  <thead>\n",
       "    <tr style=\"text-align: right;\">\n",
       "      <th></th>\n",
       "      <th>Length Label</th>\n",
       "      <th>Frequency</th>\n",
       "    </tr>\n",
       "  </thead>\n",
       "  <tbody>\n",
       "    <tr>\n",
       "      <th>count</th>\n",
       "      <td>143.000000</td>\n",
       "      <td>143.000000</td>\n",
       "    </tr>\n",
       "    <tr>\n",
       "      <th>mean</th>\n",
       "      <td>77.636364</td>\n",
       "      <td>17.636364</td>\n",
       "    </tr>\n",
       "    <tr>\n",
       "      <th>std</th>\n",
       "      <td>50.067355</td>\n",
       "      <td>18.538709</td>\n",
       "    </tr>\n",
       "    <tr>\n",
       "      <th>min</th>\n",
       "      <td>2.000000</td>\n",
       "      <td>1.000000</td>\n",
       "    </tr>\n",
       "    <tr>\n",
       "      <th>25%</th>\n",
       "      <td>37.500000</td>\n",
       "      <td>2.000000</td>\n",
       "    </tr>\n",
       "    <tr>\n",
       "      <th>50%</th>\n",
       "      <td>73.000000</td>\n",
       "      <td>9.000000</td>\n",
       "    </tr>\n",
       "    <tr>\n",
       "      <th>75%</th>\n",
       "      <td>110.500000</td>\n",
       "      <td>35.000000</td>\n",
       "    </tr>\n",
       "    <tr>\n",
       "      <th>max</th>\n",
       "      <td>228.000000</td>\n",
       "      <td>62.000000</td>\n",
       "    </tr>\n",
       "  </tbody>\n",
       "</table>\n",
       "</div>"
      ],
      "text/plain": [
       "       Length Label   Frequency\n",
       "count    143.000000  143.000000\n",
       "mean      77.636364   17.636364\n",
       "std       50.067355   18.538709\n",
       "min        2.000000    1.000000\n",
       "25%       37.500000    2.000000\n",
       "50%       73.000000    9.000000\n",
       "75%      110.500000   35.000000\n",
       "max      228.000000   62.000000"
      ]
     },
     "execution_count": 5,
     "metadata": {},
     "output_type": "execute_result"
    }
   ],
   "source": [
    "df_label_freq_sorted=df_label_freq.sort_values(by=['Length Label'])\n",
    "#df_label_freq_sorted\n",
    "df_label_freq.describe()"
   ]
  },
  {
   "cell_type": "markdown",
   "metadata": {},
   "source": [
    "# Distribution of length of the captions\n",
    "\n",
    "There are 3,425 captions, which is less than the number of files, so there are some files without medical notes. \n",
    "\n",
    "The minimum length of the labels is 6, while the maximum length is 1,054. The median length is 207 characters\n",
    "\n",
    "#Number of words"
   ]
  },
  {
   "cell_type": "code",
   "execution_count": 6,
   "metadata": {},
   "outputs": [
    {
     "data": {
      "text/plain": [
       "3425"
      ]
     },
     "execution_count": 6,
     "metadata": {},
     "output_type": "execute_result"
    }
   ],
   "source": [
    "caption_lst=[]\n",
    "for filename in os.listdir('input/ecgen-radiology/'):\n",
    "    docs = minidom.parse('input/ecgen-radiology/'+filename)\n",
    "    img_ref = docs.getElementsByTagName(\"AbstractText\")\n",
    "    \n",
    "    for i in img_ref:\n",
    "        if i.getAttribute(\"Label\") == 'FINDINGS': \n",
    "            if i.firstChild:\n",
    "                finding=str(i.firstChild.data)\n",
    "                caption_lst.append(finding)\n",
    "            \n",
    "len(caption_lst)"
   ]
  },
  {
   "cell_type": "code",
   "execution_count": 7,
   "metadata": {},
   "outputs": [
    {
     "name": "stdout",
     "output_type": "stream",
     "text": [
      "Median length:  207\n"
     ]
    },
    {
     "data": {
      "text/plain": [
       "<AxesSubplot:xlabel='Length Caption', ylabel='Count'>"
      ]
     },
     "execution_count": 7,
     "metadata": {},
     "output_type": "execute_result"
    },
    {
     "data": {
      "image/png": "[encoded data removed]",
      "text/plain": [
       "<Figure size 432x288 with 1 Axes>"
      ]
     },
     "metadata": {
      "needs_background": "light"
     },
     "output_type": "display_data"
    }
   ],
   "source": [
    "len_cap_lst=[len(i) for i in caption_lst]\n",
    "print(\"Median length: \",statistics.median(len_cap_lst))\n",
    "frequency=collections.Counter(len_cap_lst)\n",
    "dict_label_freq=dict(frequency)\n",
    "df_label_freq=pd.DataFrame(dict_label_freq.items(), columns=['Length Caption', 'Frequency'])\n",
    "\n",
    "sns.histplot(data=df_label_freq, x=\"Length Caption\")"
   ]
  },
  {
   "cell_type": "code",
   "execution_count": 8,
   "metadata": {},
   "outputs": [
    {
     "data": {
      "text/html": [
       "<div>\n",
       "<style scoped>\n",
       "    .dataframe tbody tr th:only-of-type {\n",
       "        vertical-align: middle;\n",
       "    }\n",
       "\n",
       "    .dataframe tbody tr th {\n",
       "        vertical-align: top;\n",
       "    }\n",
       "\n",
       "    .dataframe thead th {\n",
       "        text-align: right;\n",
       "    }\n",
       "</style>\n",
       "<table border=\"1\" class=\"dataframe\">\n",
       "  <thead>\n",
       "    <tr style=\"text-align: right;\">\n",
       "      <th></th>\n",
       "      <th>Length Caption</th>\n",
       "      <th>Frequency</th>\n",
       "    </tr>\n",
       "  </thead>\n",
       "  <tbody>\n",
       "    <tr>\n",
       "      <th>count</th>\n",
       "      <td>445.000000</td>\n",
       "      <td>445.000000</td>\n",
       "    </tr>\n",
       "    <tr>\n",
       "      <th>mean</th>\n",
       "      <td>296.233708</td>\n",
       "      <td>7.696629</td>\n",
       "    </tr>\n",
       "    <tr>\n",
       "      <th>std</th>\n",
       "      <td>154.318946</td>\n",
       "      <td>8.355562</td>\n",
       "    </tr>\n",
       "    <tr>\n",
       "      <th>min</th>\n",
       "      <td>6.000000</td>\n",
       "      <td>1.000000</td>\n",
       "    </tr>\n",
       "    <tr>\n",
       "      <th>25%</th>\n",
       "      <td>173.000000</td>\n",
       "      <td>2.000000</td>\n",
       "    </tr>\n",
       "    <tr>\n",
       "      <th>50%</th>\n",
       "      <td>284.000000</td>\n",
       "      <td>5.000000</td>\n",
       "    </tr>\n",
       "    <tr>\n",
       "      <th>75%</th>\n",
       "      <td>398.000000</td>\n",
       "      <td>11.000000</td>\n",
       "    </tr>\n",
       "    <tr>\n",
       "      <th>max</th>\n",
       "      <td>1054.000000</td>\n",
       "      <td>66.000000</td>\n",
       "    </tr>\n",
       "  </tbody>\n",
       "</table>\n",
       "</div>"
      ],
      "text/plain": [
       "       Length Caption   Frequency\n",
       "count      445.000000  445.000000\n",
       "mean       296.233708    7.696629\n",
       "std        154.318946    8.355562\n",
       "min          6.000000    1.000000\n",
       "25%        173.000000    2.000000\n",
       "50%        284.000000    5.000000\n",
       "75%        398.000000   11.000000\n",
       "max       1054.000000   66.000000"
      ]
     },
     "execution_count": 8,
     "metadata": {},
     "output_type": "execute_result"
    }
   ],
   "source": [
    "df_caption_freq_sorted=df_label_freq.sort_values(by=['Length Caption'])\n",
    "#df_caption_freq_sorted\n",
    "df_caption_freq_sorted.describe()"
   ]
  },
  {
   "cell_type": "markdown",
   "metadata": {},
   "source": [
    "# Image Size (min, max, average)\n",
    "\n",
    "All the images have 3 channels and the width of all the images is 512 pixels.\n",
    "\n",
    "Minimum Image size: (362,512,3)\n",
    "\n",
    "Maximum Image size: (873,512,3)\n",
    "\n",
    "Average Image size: (533,512,3)"
   ]
  },
  {
   "cell_type": "code",
   "execution_count": 17,
   "metadata": {},
   "outputs": [],
   "source": [
    "import glob \n",
    "import cv2\n",
    "# Importing and Loading the data into a data frame\n",
    "\n",
    "img_shape=[]\n",
    "for file in glob.glob('input/NLMCXR_png/*.png'):\n",
    "    file_split_1=file.split(\".\")\n",
    "    file_split_2=file_split_1[0].split(\"/\")\n",
    "    img_indx=file_split_2[2]\n",
    "    \n",
    "    img=cv2.imread(file)\n",
    "    img_shape.append((img_indx,img.shape))"
   ]
  },
  {
   "cell_type": "code",
   "execution_count": 21,
   "metadata": {},
   "outputs": [
    {
     "name": "stdout",
     "output_type": "stream",
     "text": [
      "[512] \n",
      " [3]\n"
     ]
    }
   ],
   "source": [
    "h_arr=[]\n",
    "w_arr=[]\n",
    "c_arr=[]\n",
    "\n",
    "for idx,shape in img_shape:\n",
    "    h_arr.append(shape[0])\n",
    "    w_arr.append(shape[1])\n",
    "    c_arr.append(shape[2])\n",
    "    \n",
    "print(list(set(w_arr)),\"\\n\",list(set(c_arr)))"
   ]
  },
  {
   "cell_type": "code",
   "execution_count": 22,
   "metadata": {},
   "outputs": [
    {
     "data": {
      "text/plain": [
       "362"
      ]
     },
     "execution_count": 22,
     "metadata": {},
     "output_type": "execute_result"
    }
   ],
   "source": [
    "min(h_arr)"
   ]
  },
  {
   "cell_type": "code",
   "execution_count": 23,
   "metadata": {},
   "outputs": [
    {
     "data": {
      "text/plain": [
       "873"
      ]
     },
     "execution_count": 23,
     "metadata": {},
     "output_type": "execute_result"
    }
   ],
   "source": [
    "max(h_arr)"
   ]
  },
  {
   "cell_type": "code",
   "execution_count": 24,
   "metadata": {},
   "outputs": [
    {
     "data": {
      "text/plain": [
       "532.7789825970549"
      ]
     },
     "execution_count": 24,
     "metadata": {},
     "output_type": "execute_result"
    }
   ],
   "source": [
    "sum(h_arr)/len(h_arr)"
   ]
  }
 ],
 "metadata": {
  "kernelspec": {
   "display_name": "Python 3",
   "language": "python",
   "name": "python3"
  },
  "language_info": {
   "codemirror_mode": {
    "name": "ipython",
    "version": 3
   },
   "file_extension": ".py",
   "mimetype": "text/x-python",
   "name": "python",
   "nbconvert_exporter": "python",
   "pygments_lexer": "ipython3",
   "version": "3.6.4"
  }
 },
 "nbformat": 4,
 "nbformat_minor": 4
}
